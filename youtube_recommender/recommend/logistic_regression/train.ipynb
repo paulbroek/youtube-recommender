{
 "cells": [
  {
   "cell_type": "code",
   "execution_count": null,
   "metadata": {},
   "outputs": [],
   "source": [
    "import logging\n",
    "from typing import Final\n",
    "import pandas as pd\n",
    "import numpy as np\n",
    "from sklearn.pipeline import Pipeline\n",
    "from sklearn.model_selection import train_test_split\n",
    "import random\n",
    "\n",
    "from youtube_recommender.io_methods import io_methods\n",
    "from youtube_recommender.settings import VIDEOS_PATH, YOUTUBE_VIDEO_PREFIX\n",
    "from rarc_utils.log import setup_logger, LOG_FMT\n",
    "from IPython.core.display import HTML, display\n",
    "\n",
    "logger = setup_logger(\n",
    "    cmdLevel=logging.INFO, saveFile=0, savePandas=1, color=1, fmt=LOG_FMT\n",
    ")\n"
   ]
  },
  {
   "attachments": {},
   "cell_type": "markdown",
   "metadata": {},
   "source": [
    "### 1.0 Get data"
   ]
  },
  {
   "cell_type": "code",
   "execution_count": null,
   "metadata": {},
   "outputs": [],
   "source": [
    "df = io_methods.load_feather(VIDEOS_PATH, \"video\")\n"
   ]
  },
  {
   "cell_type": "code",
   "execution_count": null,
   "metadata": {},
   "outputs": [],
   "source": [
    "print(df.description[0])\n"
   ]
  },
  {
   "attachments": {},
   "cell_type": "markdown",
   "metadata": {},
   "source": [
    "### 1.1 Define labels"
   ]
  },
  {
   "attachments": {},
   "cell_type": "markdown",
   "metadata": {},
   "source": [
    "### 1.2 Split test-train-validate dataset\n",
    "Make sure to keep balanced distribution of videos per channel"
   ]
  },
  {
   "cell_type": "code",
   "execution_count": null,
   "metadata": {},
   "outputs": [],
   "source": [
    "# %%black\n",
    "FRAC: Final[float] = 0.2\n",
    "# reshuffle entire dataset\n",
    "df = df.sample(frac=1)\n",
    "reshuffled_sample = df.sample(frac=FRAC)\n",
    "by_channel = df.groupby(\"channel_id\")\n",
    "# get channels from dataset\n",
    "def sample_data(group, frac: float):\n",
    "    return group.sample(frac=frac)\n",
    "\n",
    "\n",
    "balanced_sample = by_channel.apply(sample_data, frac=FRAC)\n",
    "# now you can see that the sample is balanced by channel_id\n",
    "HEAD: Final[int] = 6\n",
    "view = pd.DataFrame(\n",
    "    {\n",
    "        \"dataset\": by_channel[\"video_id\"].count(),\n",
    "        \"sample_20\": balanced_sample.reset_index(drop=True)\n",
    "        .groupby(\"channel_id\")[\"video_id\"]\n",
    "        .count(),\n",
    "        \"reshuffle_20\": reshuffled_sample.groupby(\"channel_id\")[\"video_id\"]\n",
    "        .count()\n",
    "        .sort_index(),\n",
    "    }\n",
    ")\n",
    "print(\"dataset: \\n\\n\", view.head(HEAD))\n",
    "# print(f\"\\nshould be {FRAC:.2%} sample: \\n\\n\", view.sample_20.head(HEAD))\n",
    "# print(f\"\\nshould be avg {FRAC:.2%} sample: \\n\\n\", view.reshuffle_20.head(HEAD))\n",
    "# a bit more unbalanced, but still OK\n"
   ]
  },
  {
   "cell_type": "code",
   "execution_count": null,
   "metadata": {},
   "outputs": [],
   "source": [
    "# add dependent variable column\n",
    "# df[\"is_educational\"] = 1\n",
    "df[\"is_course\"] = 0\n",
    "# super lazy data scientist way: assume that FreeCodeCamp videos are courses and let the model figure out of other videos are like that\n",
    "headTopChannels = by_channel[[\"video_id\", \"channel_name\"]].agg({\"video_id\": \"count\", \"channel_name\": \"last\"}).sort_values(\"video_id\", ascending=False).head(15)\n",
    "# print(headTopChannels)\n",
    "df[\"is_course\"] = np.where(df.channel_id == \"UC8butISFwT-Wl7EV0hUK0BQ\", 1, 0)\n",
    "df.is_course.sum()\n"
   ]
  },
  {
   "cell_type": "code",
   "execution_count": null,
   "metadata": {},
   "outputs": [],
   "source": [
    "headTopChannels"
   ]
  },
  {
   "cell_type": "code",
   "execution_count": null,
   "metadata": {},
   "outputs": [],
   "source": [
    "# TODO: tokenize the title and description\n",
    "\n",
    "# TODO: manually label videos as tutorial / course, or find a dataset that did this"
   ]
  },
  {
   "cell_type": "code",
   "execution_count": null,
   "metadata": {},
   "outputs": [],
   "source": [
    "# split train, test, validate\n",
    "ratio_train: Final[float] = 0.7\n",
    "ratio_val: Final[float] = 0.15\n",
    "ratio_test: Final[float] = 0.15\n",
    "assert ratio_train + ratio_val + ratio_test > 0.99\n",
    "\n",
    "# Produces test split.\n",
    "# x_remaining, x_test, y_remaining, y_test = train_test_split(x, y, test_size=ratio_test)\n"
   ]
  },
  {
   "cell_type": "code",
   "execution_count": null,
   "metadata": {},
   "outputs": [],
   "source": [
    "# train_test_split?\n"
   ]
  },
  {
   "cell_type": "code",
   "execution_count": null,
   "metadata": {},
   "outputs": [],
   "source": [
    "# TODO: start with simplest model: binary logistic regression that predicts `is_educational`, then try multinomial logistic regression later\n"
   ]
  },
  {
   "attachments": {},
   "cell_type": "markdown",
   "metadata": {},
   "source": [
    "### Open video in browser"
   ]
  },
  {
   "cell_type": "code",
   "execution_count": null,
   "metadata": {},
   "outputs": [],
   "source": [
    "def visit_url(df: pd.DataFrame, index: int) -> str:\n",
    "    \"\"\"Visit youtube video, by adding prefix and opening browser tab.\"\"\"\n",
    "    url: Final[str] = YOUTUBE_VIDEO_PREFIX + df.iloc[index].video_id\n",
    "    return url"
   ]
  },
  {
   "cell_type": "code",
   "execution_count": null,
   "metadata": {},
   "outputs": [],
   "source": [
    "# sel_index: Final[int] = 0\n",
    "sel_index: Final[int] = random.choice(range(len(df)))\n",
    "sel_title: Final[str] = df.iloc[sel_index].title\n",
    "# TODO: not working in chrome? always opens new tab\n",
    "reuseTab: Final[bool] = 1\n",
    "\n",
    "url: Final[str] = visit_url(df, sel_index)\n",
    "\n",
    "# open url in browser\n",
    "targetStr: Final[str] = \"_self\" if reuseTab else \"_blank\"\n",
    "htmlStr: Final[str] = f\"<a href='{url}' target='{targetStr}'> Open YouTube video: {sel_title}</a>\"\n",
    "# print(htmlStr)\n",
    "display(HTML(htmlStr))"
   ]
  }
 ],
 "metadata": {
  "kernelspec": {
   "display_name": "py310",
   "language": "python",
   "name": "python3"
  },
  "language_info": {
   "codemirror_mode": {
    "name": "ipython",
    "version": 3
   },
   "file_extension": ".py",
   "mimetype": "text/x-python",
   "name": "python",
   "nbconvert_exporter": "python",
   "pygments_lexer": "ipython3",
   "version": "3.10.8"
  },
  "vscode": {
   "interpreter": {
    "hash": "dce96882373123a2e729d39ebcca42e193aacebf3e74d5c2840728b2245f38f7"
   }
  }
 },
 "nbformat": 4,
 "nbformat_minor": 2
}
