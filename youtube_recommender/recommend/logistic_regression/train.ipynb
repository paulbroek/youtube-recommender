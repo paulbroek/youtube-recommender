{
 "cells": [
  {
   "cell_type": "code",
   "execution_count": 5,
   "metadata": {},
   "outputs": [
    {
     "name": "stderr",
     "output_type": "stream",
     "text": [
      "2022-12-11 00:52:05,022 - log              - 345  - setup_logger         - WARNING - using colored logs\n"
     ]
    }
   ],
   "source": [
    "import logging\n",
    "import pandas as pd\n",
    "\n",
    "from youtube_recommender.io_methods import io_methods\n",
    "from youtube_recommender.settings import VIDEOS_PATH\n",
    "from rarc_utils.log import setup_logger, LOG_FMT\n",
    "\n",
    "logger = setup_logger(\n",
    "    cmdLevel=logging.INFO, saveFile=0, savePandas=1, color=1, fmt=LOG_FMT\n",
    ")\n"
   ]
  },
  {
   "attachments": {},
   "cell_type": "markdown",
   "metadata": {},
   "source": [
    "### 0. Get data"
   ]
  },
  {
   "cell_type": "code",
   "execution_count": 6,
   "metadata": {},
   "outputs": [
    {
     "name": "stderr",
     "output_type": "stream",
     "text": [
      "2022-12-11 00:52:07,484 - io_methods       - 74   - load_feather         - INFO    - loaded 21,742 video rows from feather\n"
     ]
    }
   ],
   "source": [
    "df = io_methods.load_feather(VIDEOS_PATH, \"video\")"
   ]
  },
  {
   "attachments": {},
   "cell_type": "markdown",
   "metadata": {},
   "source": [
    "### 1. Define labels"
   ]
  }
 ],
 "metadata": {
  "kernelspec": {
   "display_name": "py310",
   "language": "python",
   "name": "python3"
  },
  "language_info": {
   "codemirror_mode": {
    "name": "ipython",
    "version": 3
   },
   "file_extension": ".py",
   "mimetype": "text/x-python",
   "name": "python",
   "nbconvert_exporter": "python",
   "pygments_lexer": "ipython3",
   "version": "3.10.8"
  },
  "orig_nbformat": 4,
  "vscode": {
   "interpreter": {
    "hash": "dce96882373123a2e729d39ebcca42e193aacebf3e74d5c2840728b2245f38f7"
   }
  }
 },
 "nbformat": 4,
 "nbformat_minor": 2
}
