{
 "cells": [
  {
   "cell_type": "code",
   "execution_count": null,
   "metadata": {},
   "outputs": [],
   "source": [
    "import logging\n",
    "import pandas as pd\n",
    "\n",
    "from youtube_recommender.io_methods import io_methods\n",
    "from youtube_recommender.settings import VIDEOS_PATH\n",
    "from rarc_utils.log import setup_logger, LOG_FMT\n",
    "\n",
    "logger = setup_logger(\n",
    "    cmdLevel=logging.INFO, saveFile=0, savePandas=1, color=1, fmt=LOG_FMT\n",
    ")\n"
   ]
  },
  {
   "attachments": {},
   "cell_type": "markdown",
   "metadata": {},
   "source": [
    "### 0. Get data"
   ]
  },
  {
   "cell_type": "code",
   "execution_count": null,
   "metadata": {},
   "outputs": [],
   "source": [
    "df = io_methods.load_feather(VIDEOS_PATH, \"video\")"
   ]
  },
  {
   "attachments": {},
   "cell_type": "markdown",
   "metadata": {},
   "source": [
    "### 1. Define labels"
   ]
  }
 ],
 "metadata": {
  "kernelspec": {
   "display_name": "py310",
   "language": "python",
   "name": "python3"
  },
  "language_info": {
   "codemirror_mode": {
    "name": "ipython",
    "version": 3
   },
   "file_extension": ".py",
   "mimetype": "text/x-python",
   "name": "python",
   "nbconvert_exporter": "python",
   "pygments_lexer": "ipython3",
   "version": "3.10.8"
  },
  "vscode": {
   "interpreter": {
    "hash": "dce96882373123a2e729d39ebcca42e193aacebf3e74d5c2840728b2245f38f7"
   }
  }
 },
 "nbformat": 4,
 "nbformat_minor": 2
}
